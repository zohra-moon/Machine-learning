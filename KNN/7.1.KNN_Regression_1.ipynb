{
 "cells": [
  {
   "cell_type": "code",
   "execution_count": 2,
   "id": "976b7c14-6578-40f7-a99a-c4b614695f27",
   "metadata": {},
   "outputs": [
    {
     "data": {
      "text/html": [
       "<div>\n",
       "<style scoped>\n",
       "    .dataframe tbody tr th:only-of-type {\n",
       "        vertical-align: middle;\n",
       "    }\n",
       "\n",
       "    .dataframe tbody tr th {\n",
       "        vertical-align: top;\n",
       "    }\n",
       "\n",
       "    .dataframe thead th {\n",
       "        text-align: right;\n",
       "    }\n",
       "</style>\n",
       "<table border=\"1\" class=\"dataframe\">\n",
       "  <thead>\n",
       "    <tr style=\"text-align: right;\">\n",
       "      <th></th>\n",
       "      <th>Age</th>\n",
       "      <th>Income(k)</th>\n",
       "    </tr>\n",
       "  </thead>\n",
       "  <tbody>\n",
       "    <tr>\n",
       "      <th>0</th>\n",
       "      <td>21</td>\n",
       "      <td>60</td>\n",
       "    </tr>\n",
       "    <tr>\n",
       "      <th>1</th>\n",
       "      <td>20</td>\n",
       "      <td>55</td>\n",
       "    </tr>\n",
       "    <tr>\n",
       "      <th>2</th>\n",
       "      <td>22</td>\n",
       "      <td>60</td>\n",
       "    </tr>\n",
       "    <tr>\n",
       "      <th>3</th>\n",
       "      <td>22</td>\n",
       "      <td>61</td>\n",
       "    </tr>\n",
       "    <tr>\n",
       "      <th>4</th>\n",
       "      <td>23</td>\n",
       "      <td>65</td>\n",
       "    </tr>\n",
       "  </tbody>\n",
       "</table>\n",
       "</div>"
      ],
      "text/plain": [
       "   Age  Income(k)\n",
       "0   21         60\n",
       "1   20         55\n",
       "2   22         60\n",
       "3   22         61\n",
       "4   23         65"
      ]
     },
     "execution_count": 2,
     "metadata": {},
     "output_type": "execute_result"
    }
   ],
   "source": [
    "import pandas as pd\n",
    "import numpy as np\n",
    "import warnings\n",
    "warnings.filterwarnings('ignore')\n",
    "df=pd.read_csv(\"KNN_age_income.csv\")\n",
    "df.head()"
   ]
  },
  {
   "cell_type": "markdown",
   "id": "32b2c3e0-fcab-48af-813b-424edf19fa08",
   "metadata": {},
   "source": [
    "# kNN for regression"
   ]
  },
  {
   "cell_type": "code",
   "execution_count": 3,
   "id": "10f5d4fa-ac05-4391-b9b2-3dac80d4761e",
   "metadata": {},
   "outputs": [
    {
     "data": {
      "text/plain": [
       "KNeighborsRegressor(n_neighbors=3)"
      ]
     },
     "execution_count": 3,
     "metadata": {},
     "output_type": "execute_result"
    }
   ],
   "source": [
    "from sklearn.neighbors import KNeighborsRegressor\n",
    "KNN = KNeighborsRegressor(n_neighbors=3)\n",
    "\n",
    "KNN.fit(df[['Age']], df[['Income(k)']])\n"
   ]
  },
  {
   "cell_type": "code",
   "execution_count": 4,
   "id": "fa0b33fd-a007-44b6-a642-9232284abba2",
   "metadata": {},
   "outputs": [],
   "source": [
    "knnpred = KNN.predict([[22]])"
   ]
  },
  {
   "cell_type": "code",
   "execution_count": 5,
   "id": "324b7804-baf3-4491-9c05-11cdf2e83a76",
   "metadata": {},
   "outputs": [
    {
     "data": {
      "text/plain": [
       "array([[60.33333333]])"
      ]
     },
     "execution_count": 5,
     "metadata": {},
     "output_type": "execute_result"
    }
   ],
   "source": [
    "knnpred"
   ]
  },
  {
   "cell_type": "code",
   "execution_count": 6,
   "id": "7471255f-f1bb-4d61-a937-b2081b8de8d6",
   "metadata": {},
   "outputs": [],
   "source": [
    "#predictoion using linear Regression\n",
    "from sklearn.linear_model import LinearRegression\n",
    "reg= LinearRegression()\n",
    "reg.fit(df[['Age']], df[['Income(k)']])\n",
    "\n",
    "linear_predict= reg.predict([[22]])"
   ]
  },
  {
   "cell_type": "code",
   "execution_count": 7,
   "id": "a083ff6a-9b5c-4a57-93a0-b949f8dd8dc6",
   "metadata": {},
   "outputs": [
    {
     "data": {
      "text/plain": [
       "array([[60.97068966]])"
      ]
     },
     "execution_count": 7,
     "metadata": {},
     "output_type": "execute_result"
    }
   ],
   "source": [
    "linear_predict"
   ]
  },
  {
   "cell_type": "code",
   "execution_count": null,
   "id": "9273b79e-a2b1-4682-b260-77ac38068b5d",
   "metadata": {},
   "outputs": [],
   "source": []
  }
 ],
 "metadata": {
  "kernelspec": {
   "display_name": "Python 3 (ipykernel)",
   "language": "python",
   "name": "python3"
  },
  "language_info": {
   "codemirror_mode": {
    "name": "ipython",
    "version": 3
   },
   "file_extension": ".py",
   "mimetype": "text/x-python",
   "name": "python",
   "nbconvert_exporter": "python",
   "pygments_lexer": "ipython3",
   "version": "3.10.12"
  }
 },
 "nbformat": 4,
 "nbformat_minor": 5
}
